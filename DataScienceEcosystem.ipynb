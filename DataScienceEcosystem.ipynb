{
 "cells": [
  {
   "cell_type": "markdown",
   "id": "274b06c9-d392-4323-9bd3-3f1ad85f1e06",
   "metadata": {},
   "source": [
    "<h1>Data Science Tools and Ecosystem</h1>"
   ]
  },
  {
   "cell_type": "markdown",
   "id": "c03b5f6e-475d-4573-a3c7-be59a0cdcc1a",
   "metadata": {},
   "source": [
    "In this notebook, Data Science Tools and Ecosystem are summarized."
   ]
  },
  {
   "cell_type": "markdown",
   "id": "a8226565-a55f-49bb-886f-28ca1854495f",
   "metadata": {},
   "source": [
    "<bold>Some key takeaways from the course:</bold>\n",
    "<ul>\n",
    "    <li>There exists various languages and tools that facilitates data science.</li>\n",
    "    <li>Some of which are more powerful than others (i.e. Watson's autoai features)</li>\n",
    "    <li>In addition, proper use of Github allows for better control than many other file sharing alternatives in the long run</li>\n",
    "</ul>"
   ]
  },
  {
   "cell_type": "markdown",
   "id": "3f29fb9b-eed3-4691-a23f-e6995181e9d4",
   "metadata": {},
   "source": [
    "<h2>Author:</h2>\n",
    "Håkon Strand Aandahl\n"
   ]
  },
  {
   "cell_type": "markdown",
   "id": "0c76dfde-0279-4e7c-9a0c-a9160c90a741",
   "metadata": {},
   "source": [
    "Some of the popular languages that Data Scientists use are:\n",
    "<ol>\n",
    "    <li>Python</li>\n",
    "    <li>Julia</li>\n",
    "    <li>R</li>\n",
    "</ol>"
   ]
  },
  {
   "cell_type": "markdown",
   "id": "065069aa-d082-4392-aba4-4cf964069e70",
   "metadata": {},
   "source": [
    "Some of the commonly used libraries used by Data Scientists include:\n",
    "<ul>\n",
    "    <li>Pandas</li>\n",
    "    <li>Numpy</li>\n",
    "    <li>Sklearn</li>\n",
    "    <li>Tensorflow</li>\n",
    "    <li>Keras</li>\n",
    "</ul>"
   ]
  },
  {
   "cell_type": "markdown",
   "id": "4b8340f3-2895-4159-ae4d-943889ffb691",
   "metadata": {},
   "source": [
    "<table align=\"left\">\n",
    "    <tr>\n",
    "        <th>Data Science Tools</th>\n",
    "    </tr>\n",
    "    <tr>\n",
    "        <td>Jupyterlab</td>\n",
    "    </tr>\n",
    "    <tr>\n",
    "        <td>Github</td>\n",
    "    </tr>\n",
    "    <tr>\n",
    "        <td>RStudio</td>\n",
    "    </tr>\n",
    "    "
   ]
  },
  {
   "cell_type": "markdown",
   "id": "b0c41fca-6f8b-4740-b53e-2dc2fe85f37b",
   "metadata": {},
   "source": [
    "<h3>Below are a few examples of evaluating arithmetic expressions in Python.</h3>"
   ]
  },
  {
   "cell_type": "code",
   "execution_count": 6,
   "id": "fd064206-4294-4cda-b010-33637b5c2665",
   "metadata": {},
   "outputs": [
    {
     "data": {
      "text/plain": [
       "17"
      ]
     },
     "execution_count": 6,
     "metadata": {},
     "output_type": "execute_result"
    }
   ],
   "source": [
    "# This a simple arithmetic expression to mutiply then add integers.\n",
    "(3*4)+5"
   ]
  },
  {
   "cell_type": "code",
   "execution_count": 9,
   "id": "8a1e914d-5387-4c46-983a-a5b0b11ea974",
   "metadata": {},
   "outputs": [
    {
     "data": {
      "text/plain": [
       "3.3333333333333335"
      ]
     },
     "execution_count": 9,
     "metadata": {},
     "output_type": "execute_result"
    }
   ],
   "source": [
    "# This will convert 200 minutes to hours by dividing by 60.\n",
    "200 / 60"
   ]
  }
 ],
 "metadata": {
  "kernelspec": {
   "display_name": "Python",
   "language": "python",
   "name": "conda-env-python-py"
  },
  "language_info": {
   "codemirror_mode": {
    "name": "ipython",
    "version": 3
   },
   "file_extension": ".py",
   "mimetype": "text/x-python",
   "name": "python",
   "nbconvert_exporter": "python",
   "pygments_lexer": "ipython3",
   "version": "3.7.12"
  }
 },
 "nbformat": 4,
 "nbformat_minor": 5
}
