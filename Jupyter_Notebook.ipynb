{
 "cells": [
  {
   "cell_type": "markdown",
   "metadata": {},
   "source": [
    "<center>\n",
    "    <img src=\"https://cf-courses-data.s3.us.cloud-object-storage.appdomain.cloud/IBMDeveloperSkillsNetwork-DS0105EN-SkillsNetwork/labs/Module2/images/SN_web_lightmode.png\" width=\"300\" alt=\"cognitiveclass.ai logo\">\n",
    "</center>\n"
   ]
  },
  {
   "cell_type": "markdown",
   "metadata": {},
   "source": [
    "#### Add your code below following the instructions given in the course\n"
   ]
  },
  {
   "cell_type": "markdown",
   "metadata": {},
   "source": [
    "My Jupyter Notebook on IBM Watson Studio"
   ]
  },
  {
   "cell_type": "markdown",
   "metadata": {},
   "source": [
    "Name: HÅKON STRAND AANDAHL \n",
    "Desired occupation: data scientist or project manager"
   ]
  },
  {
   "cell_type": "markdown",
   "metadata": {},
   "source": [
    "*I am interested in data science because of the positive impact it can have within my field (health, bio and performance) as well as the large scale potential to deploy fully capable systems to foreign countries in humanitarian missions. I hope to see the day where self-maintained systems for power, sanitation and other can be deployed anywhere at any time.*"
   ]
  },
  {
   "cell_type": "markdown",
   "metadata": {},
   "source": [
    "<h3>The code below displays a function that takes a any number of integers in a tuple and adds them summarise them. \n",
    "In this example 1 + 2 + 3 + 4 = 10 as shown as the outcome below.</h3>"
   ]
  },
  {
   "cell_type": "code",
   "execution_count": 8,
   "metadata": {},
   "outputs": [
    {
     "name": "stdout",
     "output_type": "stream",
     "text": [
      "10\n"
     ]
    }
   ],
   "source": [
    "def summarised_args(*args):\n",
    "    return sum(args)\n",
    "\n",
    "print(summarised_args(1,2,3,4))"
   ]
  },
  {
   "cell_type": "markdown",
   "metadata": {},
   "source": [
    "First horizontal rule:\n",
    "<hr></hr>\n",
    "\n",
    "Bulleted list:\n",
    "<ul>\n",
    "    <li>This</li>\n",
    "    <li>That</li>\n",
    "    <li>Other</li>\n",
    "</ul>\n",
    "\n",
    "Code Highlight: \n",
    "```json\n",
    "Dict = {\n",
    "  \"Programming Language\": \"Python\",\n",
    "  \"Interest\": \"Data Science\",\n",
    "}\n",
    "\n",
    "def summarised_args(*args):\n",
    "    return sum(args)\n",
    "\n",
    "print(summarised_args(1,2,3,4))\n",
    "```\n",
    "\n",
    "Numbered list:\n",
    "<ol>\n",
    "    <li>One</li>\n",
    "    <li>Two</li>\n",
    "    <li>Three</li>\n",
    "</ol>\n",
    "\n",
    "\n",
    "Hyperlink (don't click it):\n",
    "<a href=\"https://www.youtube.com/watch?v=xvFZjo5PgG0\">Seriously, don't click this</a>\n",
    "\n",
    "horizontal rule, bulleted list, numbered list, tables, hyperlinks, images, code/syntax highlighting, blocked quotes, strikethrough.\n",
    "\n",
    "Table:\n",
    "<div>\n",
    "    <table align = \"left\">\n",
    "      <tr>\n",
    "        <th>This</th>\n",
    "        <th>Table</th>\n",
    "        <th>Contains</th>\n",
    "      </tr>\n",
    "      <tr>\n",
    "        <td>Singular</td>\n",
    "        <td>Strings</td>\n",
    "        <td>Displayed</td>\n",
    "      </tr>\n",
    "      <tr>\n",
    "        <td>Just</td>\n",
    "        <td>Like</td>\n",
    "        <td>This</td>\n",
    "      </tr>\n",
    "    </table> \n",
    "</div>\n",
    "<br>"
   ]
  }
 ],
 "metadata": {
  "kernelspec": {
   "display_name": "Python",
   "language": "python",
   "name": "conda-env-python-py"
  },
  "language_info": {
   "codemirror_mode": {
    "name": "ipython",
    "version": 3
   },
   "file_extension": ".py",
   "mimetype": "text/x-python",
   "name": "python",
   "nbconvert_exporter": "python",
   "pygments_lexer": "ipython3",
   "version": "3.7.12"
  }
 },
 "nbformat": 4,
 "nbformat_minor": 4
}
